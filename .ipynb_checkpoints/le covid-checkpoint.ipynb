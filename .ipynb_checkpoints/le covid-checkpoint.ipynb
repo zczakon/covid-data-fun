{
 "cells": [
  {
   "cell_type": "code",
   "execution_count": 1,
   "metadata": {},
   "outputs": [],
   "source": [
    "import numpy as np\n",
    "import pandas as pd\n",
    "from math import log\n",
    "import scipy.stats\n",
    "import matplotlib.pyplot as plt"
   ]
  },
  {
   "cell_type": "markdown",
   "metadata": {},
   "source": [
    "Based on data from: https://data.europa.eu/euodp/pl/data/dataset/covid-19-coronavirus-data"
   ]
  },
  {
   "cell_type": "code",
   "execution_count": 2,
   "metadata": {},
   "outputs": [
    {
     "name": "stdout",
     "output_type": "stream",
     "text": [
      "[0.30102999566398114, 0.1760912590556813, 0.12493873660829985, 0.09691001300805646, 0.07918124604762478, 0.06694678963061318, 0.057991946977686726, 0.05115252244738144, 0.04575749056067513]\n"
     ]
    },
    {
     "data": {
      "image/png": "[encoded data removed]",
      "text/plain": [
       "<Figure size 432x288 with 1 Axes>"
      ]
     },
     "metadata": {
      "needs_background": "light"
     },
     "output_type": "display_data"
    }
   ],
   "source": [
    "def benford_pmf(x, base=10):\n",
    "    if x not in range(1,10):\n",
    "        print(\"not a digit\")\n",
    "        pass\n",
    "    return log(x+1,base)-log(x,base)\n",
    "\n",
    "benford=[benford_pmf(x) for x in range(1,10)]\n",
    "print(benford)\n",
    "plt.bar(np.arange(1,10),benford)\n",
    "\n",
    "def generate_benford(n):\n",
    "    benford=[benford_pmf(digit) for digit in range(1,10)]\n",
    "    return np.random.choice(9,n,p=benford)+1"
   ]
  },
  {
   "cell_type": "code",
   "execution_count": 3,
   "metadata": {},
   "outputs": [],
   "source": [
    "def count_occurence(list,digit):\n",
    "    occurences=[list[i] for i in range(len(list)) if list[i]==digit]\n",
    "    return len(occurences)\n",
    "\n",
    "def count_first_digit(df,data_str):\n",
    "    data_column=df[str(data_str)]\n",
    "    #print(data_column)\n",
    "    total_count= [int(str(num)[0]) for num in data_column]\n",
    "    data_count = [count_occurence(total_count,digit) for digit in range(1,10)]   \n",
    "    data_percentage = [x/len(total_count) for x in data_count]\n",
    "    return (total_count, data_count, data_percentage)\n",
    "\n",
    "def get_expected_counts(total_count):\n",
    "    benford=[benford_pmf(digit) for digit in range(1,10)]\n",
    "    n=len(total_count)\n",
    "    expected=[n*benford[i] for i in range(9)]\n",
    "    return expected"
   ]
  },
  {
   "cell_type": "code",
   "execution_count": 14,
   "metadata": {},
   "outputs": [],
   "source": [
    "def chi_square_test(data_count,expected_counts):\n",
    "    quotient=np.divide(np.subtract(data_count,expected_counts)**2,expected_counts)\n",
    "    #print(\"quotients:\",quotient)\n",
    "    chi_square_stat = np.sum(quotient)\n",
    "    print(\"\\nChi-squared Test Statistic = {:.3f}\".format(chi_square_stat))\n",
    "    print(\"Critical value at a p-value of 0.05 is 15.51.\") #0.05 is significance level\n",
    "    return chi_square_stat<15.5"
   ]
  },
  {
   "cell_type": "code",
   "execution_count": 15,
   "metadata": {
    "scrolled": true
   },
   "outputs": [
    {
     "data": {
      "text/html": [
       "<div>\n",
       "<style scoped>\n",
       "    .dataframe tbody tr th:only-of-type {\n",
       "        vertical-align: middle;\n",
       "    }\n",
       "\n",
       "    .dataframe tbody tr th {\n",
       "        vertical-align: top;\n",
       "    }\n",
       "\n",
       "    .dataframe thead th {\n",
       "        text-align: right;\n",
       "    }\n",
       "</style>\n",
       "<table border=\"1\" class=\"dataframe\">\n",
       "  <thead>\n",
       "    <tr style=\"text-align: right;\">\n",
       "      <th></th>\n",
       "      <th>dateRep</th>\n",
       "      <th>day</th>\n",
       "      <th>month</th>\n",
       "      <th>year</th>\n",
       "      <th>cases</th>\n",
       "      <th>deaths</th>\n",
       "      <th>countriesAndTerritories</th>\n",
       "      <th>geoId</th>\n",
       "      <th>countryterritoryCode</th>\n",
       "      <th>popData2019</th>\n",
       "      <th>continentExp</th>\n",
       "      <th>Cumulative_number_for_14_days_of_COVID-19_cases_per_100000</th>\n",
       "    </tr>\n",
       "  </thead>\n",
       "  <tbody>\n",
       "    <tr>\n",
       "      <th>40463</th>\n",
       "      <td>2020-11-12</td>\n",
       "      <td>12</td>\n",
       "      <td>11</td>\n",
       "      <td>2020</td>\n",
       "      <td>25221</td>\n",
       "      <td>430</td>\n",
       "      <td>Poland</td>\n",
       "      <td>PL</td>\n",
       "      <td>POL</td>\n",
       "      <td>37972812.0</td>\n",
       "      <td>Europe</td>\n",
       "      <td>842.086701</td>\n",
       "    </tr>\n",
       "    <tr>\n",
       "      <th>40464</th>\n",
       "      <td>2020-11-11</td>\n",
       "      <td>11</td>\n",
       "      <td>11</td>\n",
       "      <td>2020</td>\n",
       "      <td>25454</td>\n",
       "      <td>330</td>\n",
       "      <td>Poland</td>\n",
       "      <td>PL</td>\n",
       "      <td>POL</td>\n",
       "      <td>37972812.0</td>\n",
       "      <td>Europe</td>\n",
       "      <td>825.229904</td>\n",
       "    </tr>\n",
       "    <tr>\n",
       "      <th>40465</th>\n",
       "      <td>2020-11-10</td>\n",
       "      <td>10</td>\n",
       "      <td>11</td>\n",
       "      <td>2020</td>\n",
       "      <td>21713</td>\n",
       "      <td>173</td>\n",
       "      <td>Poland</td>\n",
       "      <td>PL</td>\n",
       "      <td>POL</td>\n",
       "      <td>37972812.0</td>\n",
       "      <td>Europe</td>\n",
       "      <td>801.123183</td>\n",
       "    </tr>\n",
       "    <tr>\n",
       "      <th>40466</th>\n",
       "      <td>2020-11-09</td>\n",
       "      <td>9</td>\n",
       "      <td>11</td>\n",
       "      <td>2020</td>\n",
       "      <td>24785</td>\n",
       "      <td>236</td>\n",
       "      <td>Poland</td>\n",
       "      <td>PL</td>\n",
       "      <td>POL</td>\n",
       "      <td>37972812.0</td>\n",
       "      <td>Europe</td>\n",
       "      <td>770.912094</td>\n",
       "    </tr>\n",
       "    <tr>\n",
       "      <th>40467</th>\n",
       "      <td>2020-11-08</td>\n",
       "      <td>8</td>\n",
       "      <td>11</td>\n",
       "      <td>2020</td>\n",
       "      <td>27875</td>\n",
       "      <td>349</td>\n",
       "      <td>Poland</td>\n",
       "      <td>PL</td>\n",
       "      <td>POL</td>\n",
       "      <td>37972812.0</td>\n",
       "      <td>Europe</td>\n",
       "      <td>736.563834</td>\n",
       "    </tr>\n",
       "  </tbody>\n",
       "</table>\n",
       "</div>"
      ],
      "text/plain": [
       "         dateRep  day  month  year  cases  deaths countriesAndTerritories  \\\n",
       "40463 2020-11-12   12     11  2020  25221     430                  Poland   \n",
       "40464 2020-11-11   11     11  2020  25454     330                  Poland   \n",
       "40465 2020-11-10   10     11  2020  21713     173                  Poland   \n",
       "40466 2020-11-09    9     11  2020  24785     236                  Poland   \n",
       "40467 2020-11-08    8     11  2020  27875     349                  Poland   \n",
       "\n",
       "      geoId countryterritoryCode  popData2019 continentExp  \\\n",
       "40463    PL                  POL   37972812.0       Europe   \n",
       "40464    PL                  POL   37972812.0       Europe   \n",
       "40465    PL                  POL   37972812.0       Europe   \n",
       "40466    PL                  POL   37972812.0       Europe   \n",
       "40467    PL                  POL   37972812.0       Europe   \n",
       "\n",
       "       Cumulative_number_for_14_days_of_COVID-19_cases_per_100000  \n",
       "40463                                         842.086701           \n",
       "40464                                         825.229904           \n",
       "40465                                         801.123183           \n",
       "40466                                         770.912094           \n",
       "40467                                         736.563834           "
      ]
     },
     "execution_count": 15,
     "metadata": {},
     "output_type": "execute_result"
    }
   ],
   "source": [
    "df=pd.read_excel(\"COVID-19-geographic-disbtribution-worldwide.xlsx\")\n",
    "covid_poland=df[df['countriesAndTerritories']=='Poland']\n",
    "covid_poland.head()\n",
    "#results as of 12.11.2020"
   ]
  },
  {
   "cell_type": "code",
   "execution_count": 16,
   "metadata": {},
   "outputs": [
    {
     "name": "stdout",
     "output_type": "stream",
     "text": [
      "\n",
      "Chi-squared Test Statistic = 27.552\n"
     ]
    }
   ],
   "source": [
    "#print(\"Length of total count: \",len(total_count))\n",
    "#print(\"Total count: \",total_count)\n",
    "#print(\"Data count: \",data_count)\n",
    "#print(\"Data percentage: \",data_percentage)\n",
    "\n",
    "def run_tests(df,data_column: str):\n",
    "    total_count, data_count, data_percentage=count_first_digit(df,data_column)\n",
    "    expected_counts=get_expected_counts(total_count)\n",
    "    chi_square_test(data_count,expected_counts)\n",
    "    #print(scipy.stats.kstest(data_count,expected_counts))\n",
    "    \n",
    "run_tests(covid_poland,'deaths')"
   ]
  },
  {
   "cell_type": "code",
   "execution_count": 17,
   "metadata": {},
   "outputs": [
    {
     "name": "stdout",
     "output_type": "stream",
     "text": [
      "\n",
      "Chi-squared Test Statistic = 24.119\n"
     ]
    }
   ],
   "source": [
    "#remove beginning of records, where 0 occured multiple times in a row, removed outliers in form of 0 record (1)\n",
    "covid_deaths=covid_poland[['deaths']].copy()\n",
    "covid_deaths=covid_deaths.drop([i for i in range(40698,40715)])\n",
    "covid_deaths.loc[(covid_deaths!=0).any(axis=1)]\n",
    "covid_deaths\n",
    "run_tests(covid_deaths,'deaths')"
   ]
  },
  {
   "cell_type": "code",
   "execution_count": 18,
   "metadata": {},
   "outputs": [
    {
     "name": "stdout",
     "output_type": "stream",
     "text": [
      "\n",
      "Chi-squared Test Statistic = 24.644\n"
     ]
    }
   ],
   "source": [
    "#remove beginning of records until no 0 occurs\n",
    "covid_deaths=covid_poland[['deaths']].copy()\n",
    "covid_deaths=covid_deaths.drop([i for i in range(40692,40715)])\n",
    "covid_deaths.tail(30)\n",
    "run_tests(covid_deaths,'deaths')"
   ]
  },
  {
   "cell_type": "code",
   "execution_count": 19,
   "metadata": {},
   "outputs": [
    {
     "name": "stdout",
     "output_type": "stream",
     "text": [
      "\n",
      "Chi-squared Test Statistic = 41.260\n"
     ]
    }
   ],
   "source": [
    "#replacing 0 by 1 in all \n",
    "#makes absolutely no sense now \n",
    "covid_deaths=covid_poland[['deaths']].copy()\n",
    "covid_deaths=covid_deaths.replace(0,1)\n",
    "covid_deaths.tail()\n",
    "run_tests(covid_deaths,'deaths')\n"
   ]
  },
  {
   "cell_type": "code",
   "execution_count": 20,
   "metadata": {},
   "outputs": [
    {
     "name": "stdout",
     "output_type": "stream",
     "text": [
      "\n",
      "Chi-squared Test Statistic = 24.119\n"
     ]
    }
   ],
   "source": [
    "#mixed approach, remove tail & replace outliers by 1 \n",
    "covid_deaths=covid_poland[['deaths']].copy()\n",
    "covid_deaths=covid_deaths.drop([i for i in range(40698,40715)])\n",
    "covid_deaths.replace(0,1)\n",
    "run_tests(covid_deaths,'deaths')"
   ]
  },
  {
   "cell_type": "markdown",
   "metadata": {},
   "source": [
    "Conclusion: outlier treatment doesn't affect the test results (small number of outliers), however removing the tail imporved results by ~3 p.pts. Hence results seem to be affected by another factor. Maybe deaths caused by coexisting illnesses? Let's see for number of new cases now."
   ]
  },
  {
   "cell_type": "code",
   "execution_count": 21,
   "metadata": {},
   "outputs": [
    {
     "name": "stdout",
     "output_type": "stream",
     "text": [
      "\n",
      "Chi-squared Test Statistic = 59.354\n"
     ]
    }
   ],
   "source": [
    "covid_cases=covid_poland[['cases']]\n",
    "run_tests(covid_cases, 'cases')\n",
    "#Woah"
   ]
  },
  {
   "cell_type": "code",
   "execution_count": 24,
   "metadata": {},
   "outputs": [
    {
     "name": "stdout",
     "output_type": "stream",
     "text": [
      "before removing the tail: \n",
      "\n",
      "Chi-squared Test Statistic = 22.708\n",
      "after removing the tail: \n",
      "\n",
      "Chi-squared Test Statistic = 19.347\n",
      "Critical value for p=0.02 is 19.347\n"
     ]
    }
   ],
   "source": [
    "#so it seems removing the tail is really what matters, I do it on the newer data here: (results seems to get closer to reality)\n",
    "df=pd.read_excel(\"COVID-19-geographic-disbtribution-worldwide_new.xlsx\")\n",
    "covid_poland=df[df['countriesAndTerritories']=='Poland']\n",
    "print('before removing the tail: ')\n",
    "run_tests(covid_poland,'deaths')\n",
    "covid_deaths=covid_poland[['deaths']].copy()\n",
    "covid_deaths=covid_deaths.drop([i for i in range(42404,42420)])\n",
    "covid_deaths.loc[(covid_deaths!=0).any(axis=1)]\n",
    "covid_deaths\n",
    "print('after removing the tail: ')\n",
    "run_tests(covid_deaths,'deaths')\n",
    "print('p=0.02 for 19.347. Since the p-value (0.02) is less than the significance level (0.05), we cannot accept the null hypothesis.')"
   ]
  },
  {
   "cell_type": "code",
   "execution_count": 23,
   "metadata": {},
   "outputs": [
    {
     "data": {
      "text/plain": [
       "<Figure size 432x288 with 0 Axes>"
      ]
     },
     "execution_count": 23,
     "metadata": {},
     "output_type": "execute_result"
    },
    {
     "data": {
      "image/png": "[encoded data removed]",
      "text/plain": [
       "<Figure size 432x288 with 1 Axes>"
      ]
     },
     "metadata": {
      "needs_background": "light"
     },
     "output_type": "display_data"
    },
    {
     "data": {
      "text/plain": [
       "<Figure size 432x288 with 0 Axes>"
      ]
     },
     "metadata": {},
     "output_type": "display_data"
    }
   ],
   "source": [
    "#let's construct a bar plot\n",
    "total_count, data_count, data_percentage=count_first_digit(covid_deaths,'deaths')\n",
    "\n",
    "barWidth = 0.25\n",
    "bars1 = benford\n",
    "bars2 = data_percentage\n",
    "r1 = np.arange(len(bars1))\n",
    "r2 = [x + barWidth for x in r1]\n",
    "plt.bar(r1, bars1,width=barWidth, edgecolor='white', label='benford')\n",
    "plt.bar(r2, bars2, color='orange', width=barWidth, edgecolor='white', label='covid death data')\n",
    "\n",
    "plt.legend()\n",
    "plt.figure()\n",
    "\n",
    "\n"
   ]
  }
 ],
 "metadata": {
  "kernelspec": {
   "display_name": "Python 3",
   "language": "python",
   "name": "python3"
  },
  "language_info": {
   "codemirror_mode": {
    "name": "ipython",
    "version": 3
   },
   "file_extension": ".py",
   "mimetype": "text/x-python",
   "name": "python",
   "nbconvert_exporter": "python",
   "pygments_lexer": "ipython3",
   "version": "3.8.3"
  }
 },
 "nbformat": 4,
 "nbformat_minor": 4
}
